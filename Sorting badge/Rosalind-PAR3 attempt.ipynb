{
 "cells": [
  {
   "cell_type": "code",
   "execution_count": 41,
   "metadata": {},
   "outputs": [],
   "source": [
    "with open(r\"C:\\Users\\Scott\\OneDrive\\Desktop\\rosalind_par3.txt\") as f:\n",
    "    n=int(f.readline().strip())\n",
    "    partition_list=[int(i) for i in f.readline().strip().split()]"
   ]
  },
  {
   "cell_type": "code",
   "execution_count": 43,
   "metadata": {},
   "outputs": [],
   "source": [
    "import numpy as np"
   ]
  },
  {
   "cell_type": "code",
   "execution_count": 196,
   "metadata": {},
   "outputs": [],
   "source": [
    "def three_way_partition(arr):\n",
    "\n",
    "    target=arr[0]\n",
    "    like_target=1\n",
    "    searching=0\n",
    "    placing=1\n",
    "\n",
    "    print(arr,target)\n",
    "\n",
    "    while searching <= len(arr)-2:\n",
    "        searching+=1\n",
    "        if arr[searching] < target:\n",
    "            arr[placing],arr[searching]=arr[searching],arr[placing]\n",
    "            placing+=1\n",
    "            print(arr)\n",
    "\n",
    "        elif arr[searching]==target:\n",
    "            arr[searching],arr[like_target]=arr[like_target],arr[searching]\n",
    "            arr[placing+1],arr[searching]=arr[searching],arr[placing+1]\n",
    "            like_target+=1\n",
    "            placing+=1\n",
    "            print(arr)\n",
    "    print(f\"the list of partition numbers is {arr[:like_target]} and the replacement list is {arr[placing-like_target:placing]}\")       \n",
    "    arr[placing-like_target:placing],arr[:like_target]=arr[:like_target],arr[placing-like_target:placing]\n",
    "   "
   ]
  },
  {
   "cell_type": "code",
   "execution_count": 197,
   "metadata": {},
   "outputs": [],
   "source": [
    "test_list=np.random.randint(-20,20,20)"
   ]
  },
  {
   "cell_type": "code",
   "execution_count": 198,
   "metadata": {},
   "outputs": [
    {
     "name": "stdout",
     "output_type": "stream",
     "text": [
      "[ 19  -2  -3  -6  18  -7  -8  16 -15  14   9   9   1 -13   9  16   7 -15\n",
      "  12  -2] 19\n",
      "[ 19  -2  -3  -6  18  -7  -8  16 -15  14   9   9   1 -13   9  16   7 -15\n",
      "  12  -2]\n",
      "[ 19  -2  -3  -6  18  -7  -8  16 -15  14   9   9   1 -13   9  16   7 -15\n",
      "  12  -2]\n",
      "[ 19  -2  -3  -6  18  -7  -8  16 -15  14   9   9   1 -13   9  16   7 -15\n",
      "  12  -2]\n",
      "[ 19  -2  -3  -6  18  -7  -8  16 -15  14   9   9   1 -13   9  16   7 -15\n",
      "  12  -2]\n",
      "[ 19  -2  -3  -6  18  -7  -8  16 -15  14   9   9   1 -13   9  16   7 -15\n",
      "  12  -2]\n",
      "[ 19  -2  -3  -6  18  -7  -8  16 -15  14   9   9   1 -13   9  16   7 -15\n",
      "  12  -2]\n",
      "[ 19  -2  -3  -6  18  -7  -8  16 -15  14   9   9   1 -13   9  16   7 -15\n",
      "  12  -2]\n",
      "[ 19  -2  -3  -6  18  -7  -8  16 -15  14   9   9   1 -13   9  16   7 -15\n",
      "  12  -2]\n",
      "[ 19  -2  -3  -6  18  -7  -8  16 -15  14   9   9   1 -13   9  16   7 -15\n",
      "  12  -2]\n",
      "[ 19  -2  -3  -6  18  -7  -8  16 -15  14   9   9   1 -13   9  16   7 -15\n",
      "  12  -2]\n",
      "[ 19  -2  -3  -6  18  -7  -8  16 -15  14   9   9   1 -13   9  16   7 -15\n",
      "  12  -2]\n",
      "[ 19  -2  -3  -6  18  -7  -8  16 -15  14   9   9   1 -13   9  16   7 -15\n",
      "  12  -2]\n",
      "[ 19  -2  -3  -6  18  -7  -8  16 -15  14   9   9   1 -13   9  16   7 -15\n",
      "  12  -2]\n",
      "[ 19  -2  -3  -6  18  -7  -8  16 -15  14   9   9   1 -13   9  16   7 -15\n",
      "  12  -2]\n",
      "[ 19  -2  -3  -6  18  -7  -8  16 -15  14   9   9   1 -13   9  16   7 -15\n",
      "  12  -2]\n",
      "[ 19  -2  -3  -6  18  -7  -8  16 -15  14   9   9   1 -13   9  16   7 -15\n",
      "  12  -2]\n",
      "[ 19  -2  -3  -6  18  -7  -8  16 -15  14   9   9   1 -13   9  16   7 -15\n",
      "  12  -2]\n",
      "[ 19  -2  -3  -6  18  -7  -8  16 -15  14   9   9   1 -13   9  16   7 -15\n",
      "  12  -2]\n",
      "[ 19  -2  -3  -6  18  -7  -8  16 -15  14   9   9   1 -13   9  16   7 -15\n",
      "  12  -2]\n",
      "the list of partition numbers is [19] and the replacement list is [-2]\n",
      "19 -2 -3 -6 18 -7 -8 16 -15 14 9 9 1 -13 9 16 7 -15 12 19\n"
     ]
    },
    {
     "ename": "",
     "evalue": "",
     "output_type": "error",
     "traceback": [
      "\u001b[1;31mThe Kernel crashed while executing code in the current cell or a previous cell. \n",
      "\u001b[1;31mPlease review the code in the cell(s) to identify a possible cause of the failure. \n",
      "\u001b[1;31mClick <a href='https://aka.ms/vscodeJupyterKernelCrash'>here</a> for more info. \n",
      "\u001b[1;31mView Jupyter <a href='command:jupyter.viewOutput'>log</a> for further details."
     ]
    }
   ],
   "source": [
    "three_way_partition(test_list)\n",
    "print (*test_list)"
   ]
  },
  {
   "cell_type": "code",
   "execution_count": 193,
   "metadata": {},
   "outputs": [
    {
     "data": {
      "text/plain": [
       "[0, 1, 2, 3, 4, 5, 6, 7, 8, 9, 10]"
      ]
     },
     "execution_count": 193,
     "metadata": {},
     "output_type": "execute_result"
    }
   ],
   "source": [
    "practice_list"
   ]
  },
  {
   "cell_type": "code",
   "execution_count": 194,
   "metadata": {},
   "outputs": [],
   "source": [
    "practice_list[2:5],practice_list[7:10]=practice_list[7:10],practice_list[2:5]"
   ]
  },
  {
   "cell_type": "code",
   "execution_count": 195,
   "metadata": {},
   "outputs": [
    {
     "data": {
      "text/plain": [
       "[0, 1, 7, 8, 9, 5, 6, 2, 3, 4, 10]"
      ]
     },
     "execution_count": 195,
     "metadata": {},
     "output_type": "execute_result"
    }
   ],
   "source": [
    "practice_list"
   ]
  },
  {
   "cell_type": "code",
   "execution_count": null,
   "metadata": {},
   "outputs": [],
   "source": []
  }
 ],
 "metadata": {
  "kernelspec": {
   "display_name": "Python 3",
   "language": "python",
   "name": "python3"
  },
  "language_info": {
   "codemirror_mode": {
    "name": "ipython",
    "version": 3
   },
   "file_extension": ".py",
   "mimetype": "text/x-python",
   "name": "python",
   "nbconvert_exporter": "python",
   "pygments_lexer": "ipython3",
   "version": "3.12.6"
  }
 },
 "nbformat": 4,
 "nbformat_minor": 2
}
